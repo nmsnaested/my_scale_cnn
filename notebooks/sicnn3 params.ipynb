{
 "cells": [
  {
   "cell_type": "code",
   "execution_count": 4,
   "metadata": {},
   "outputs": [],
   "source": [
    "import torch\n",
    "import torch.nn as nn\n",
    "import torch.nn.functional as F\n",
    "\n",
    "from scale_cnn.convolution import ScaleConvolution\n",
    "from scale_cnn.pooling import ScalePool"
   ]
  },
  {
   "cell_type": "code",
   "execution_count": 5,
   "metadata": {},
   "outputs": [],
   "source": [
    "class SiCNN_3(nn.Module): \n",
    "    def __init__(self, f_in=1, size=5, ratio=2**(2/3), nratio=3, srange=1, padding=0, nb_classes=10, features_factor=1): \n",
    "        super().__init__()\n",
    "        '''\n",
    "        Scale equivariant arch with 3 convolutional layers\n",
    "        '''\n",
    "        self.f_in = f_in\n",
    "        self.size = size\n",
    "        self.ratio = ratio \n",
    "        self.nratio = nratio\n",
    "        self.srange = srange\n",
    "        self.padding = padding\n",
    "        self.nb_classes = nb_classes\n",
    "\n",
    "        self.conv1 = ScaleConvolution(self.f_in, int(96 * features_factor), self.size, self.ratio, self.nratio, srange = 0, boundary_condition = \"dirichlet\", padding=self.padding, stride = 2)\n",
    "        self.conv2 = ScaleConvolution(int(96 * features_factor), int(96 * features_factor), self.size, self.ratio, self.nratio, srange = self.srange, boundary_condition = \"dirichlet\", padding=self.padding)\n",
    "        self.conv3 = ScaleConvolution(int(96 * features_factor), int(192 * features_factor), self.size, self.ratio, self.nratio, srange = self.srange, boundary_condition = \"dirichlet\", padding=self.padding)\n",
    "        self.pool = ScalePool(self.ratio)\n",
    "        \n",
    "        self.fc1 = nn.Linear(int(192 * features_factor), int(150 * features_factor), bias=True)\n",
    "        self.fc2 = nn.Linear(int(150 * features_factor), self.nb_classes, bias=True)\n",
    "\n",
    "    def forward(self, x): \n",
    "        x = x.unsqueeze(1)  # [batch, sigma, feature, y, x]\n",
    "        x = x.repeat(1, self.nratio, 1, 1, 1)  # [batch, sigma, feature, y, x]\n",
    "        \n",
    "        x = F.relu(self.conv1(x))\n",
    "        x = F.relu(self.conv2(x))\n",
    "        x = F.relu(self.conv3(x))\n",
    "        x = self.pool(x) # [batch,feature]\n",
    "        x = F.relu(self.fc1(x))\n",
    "        x = self.fc2(x)\n",
    "        return x"
   ]
  },
  {
   "cell_type": "code",
   "execution_count": 6,
   "metadata": {},
   "outputs": [
    {
     "data": {
      "text/plain": [
       "3494044"
      ]
     },
     "execution_count": 6,
     "metadata": {},
     "output_type": "execute_result"
    }
   ],
   "source": [
    "sum(p.numel() for p in SiCNN_3(3, srange=2, features_factor=1).parameters())"
   ]
  },
  {
   "cell_type": "code",
   "execution_count": 7,
   "metadata": {},
   "outputs": [
    {
     "data": {
      "text/plain": [
       "2898478"
      ]
     },
     "execution_count": 7,
     "metadata": {},
     "output_type": "execute_result"
    }
   ],
   "source": [
    "sum(p.numel() for p in SiCNN_3(3, srange=0, features_factor=2).parameters())"
   ]
  },
  {
   "cell_type": "code",
   "execution_count": 8,
   "metadata": {},
   "outputs": [
    {
     "data": {
      "text/plain": [
       "SiCNN_3(\n",
       "  (conv1): ScaleConvolution (size=5, 3 → 211, n=3±0, dirichlet)\n",
       "  (conv2): ScaleConvolution (size=5, 211 → 211, n=3±0, dirichlet)\n",
       "  (conv3): ScaleConvolution (size=5, 211 → 422, n=3±0, dirichlet)\n",
       "  (pool): ScalePool\n",
       "  (fc1): Linear(in_features=422, out_features=329, bias=True)\n",
       "  (fc2): Linear(in_features=329, out_features=10, bias=True)\n",
       ")"
      ]
     },
     "execution_count": 8,
     "metadata": {},
     "output_type": "execute_result"
    }
   ],
   "source": [
    "SiCNN_3(3, srange=0, features_factor=2.19795)"
   ]
  },
  {
   "cell_type": "code",
   "execution_count": 20,
   "metadata": {},
   "outputs": [],
   "source": [
    "class kanazawa(nn.Module): \n",
    "    def __init__(self, f_in, ratio=2**(2/3), nratio=3, srange=1, nb_classes=10, features_factor=1): \n",
    "        super().__init__()\n",
    "        '''\n",
    "        Scale equivariant arch, based on architecture in Kanazawa's paper https://arxiv.org/abs/1412.5104\n",
    "        selecting srange = 1 is equivalent to the paper\n",
    "        '''\n",
    "        self.f_in = f_in\n",
    "        self.ratio = ratio \n",
    "        self.nratio = nratio\n",
    "        self.srange = srange\n",
    "        self.nb_classes = nb_classes\n",
    "\n",
    "        self.conv1 = ScaleConvolution(self.f_in, int(36*features_factor), 3, self.ratio, self.nratio, srange = 0, boundary_condition = \"dirichlet\", stride = 2)\n",
    "        self.conv2 = ScaleConvolution(int(36*features_factor), int(64*features_factor), 3, self.ratio, self.nratio, srange = srange, boundary_condition = \"dirichlet\")\n",
    "        self.pool = ScalePool(self.ratio)\n",
    "        \n",
    "        self.fc1 = nn.Linear(int(64*features_factor), int(150*features_factor), bias = True)\n",
    "        self.fc2 = nn.Linear(int(150*features_factor), self.nb_classes, bias = True)"
   ]
  },
  {
   "cell_type": "code",
   "execution_count": 21,
   "metadata": {},
   "outputs": [
    {
     "data": {
      "text/plain": [
       "116012"
      ]
     },
     "execution_count": 21,
     "metadata": {},
     "output_type": "execute_result"
    }
   ],
   "source": [
    "sum(p.numel() for p in kanazawa(3, srange=2).parameters())"
   ]
  },
  {
   "cell_type": "code",
   "execution_count": 25,
   "metadata": {},
   "outputs": [
    {
     "data": {
      "text/plain": [
       "116130"
      ]
     },
     "execution_count": 25,
     "metadata": {},
     "output_type": "execute_result"
    }
   ],
   "source": [
    "sum(p.numel() for p in kanazawa(3, srange=0, features_factor=1.92).parameters())"
   ]
  },
  {
   "cell_type": "code",
   "execution_count": 27,
   "metadata": {},
   "outputs": [
    {
     "data": {
      "text/plain": [
       "69"
      ]
     },
     "execution_count": 27,
     "metadata": {},
     "output_type": "execute_result"
    }
   ],
   "source": [
    "int(36*1.92)"
   ]
  },
  {
   "cell_type": "code",
   "execution_count": 28,
   "metadata": {},
   "outputs": [
    {
     "data": {
      "text/plain": [
       "122"
      ]
     },
     "execution_count": 28,
     "metadata": {},
     "output_type": "execute_result"
    }
   ],
   "source": [
    "int(64*1.92)"
   ]
  },
  {
   "cell_type": "code",
   "execution_count": 29,
   "metadata": {},
   "outputs": [
    {
     "data": {
      "text/plain": [
       "288"
      ]
     },
     "execution_count": 29,
     "metadata": {},
     "output_type": "execute_result"
    }
   ],
   "source": [
    "int(150*1.92)"
   ]
  },
  {
   "cell_type": "code",
   "execution_count": null,
   "metadata": {},
   "outputs": [],
   "source": []
  }
 ],
 "metadata": {
  "kernelspec": {
   "display_name": "Python 3",
   "language": "python",
   "name": "python3"
  },
  "language_info": {
   "codemirror_mode": {
    "name": "ipython",
    "version": 3
   },
   "file_extension": ".py",
   "mimetype": "text/x-python",
   "name": "python",
   "nbconvert_exporter": "python",
   "pygments_lexer": "ipython3",
   "version": "3.6.5"
  }
 },
 "nbformat": 4,
 "nbformat_minor": 2
}
