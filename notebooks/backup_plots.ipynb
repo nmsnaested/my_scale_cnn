{
 "cells": [
  {
   "cell_type": "code",
   "execution_count": 1,
   "metadata": {},
   "outputs": [],
   "source": [
    "import matplotlib.pyplot as plt\n",
    "import numpy as np\n"
   ]
  },
  {
   "cell_type": "code",
   "execution_count": 4,
   "metadata": {},
   "outputs": [],
   "source": [
    "train_loss_1 = []\n",
    "train_loss_2 = []\n",
    "train_loss_3 = []\n",
    "train_loss_4 = []\n",
    "\n",
    "train_acc_1 = []\n",
    "train_acc_2 = []\n",
    "train_acc_3 = []\n",
    "train_acc_4 = []"
   ]
  },
  {
   "cell_type": "code",
   "execution_count": 5,
   "metadata": {},
   "outputs": [],
   "source": [
    "valid_loss_1 = []\n",
    "valid_loss_2 = []\n",
    "valid_loss_3 = []\n",
    "valid_loss_4 = []\n",
    "\n",
    "valid_acc_1 = []\n",
    "valid_acc_2 = []\n",
    "valid_acc_3 = []\n",
    "valid_acc_4 = []"
   ]
  },
  {
   "cell_type": "code",
   "execution_count": 6,
   "metadata": {},
   "outputs": [
    {
     "ename": "NameError",
     "evalue": "name 'train_loss_1' is not defined",
     "output_type": "error",
     "traceback": [
      "\u001b[0;31m---------------------------------------------------------------------------\u001b[0m",
      "\u001b[0;31mNameError\u001b[0m                                 Traceback (most recent call last)",
      "\u001b[0;32m<ipython-input-6-397a2c0eff55>\u001b[0m in \u001b[0;36m<module>\u001b[0;34m()\u001b[0m\n\u001b[1;32m      1\u001b[0m \u001b[0;34m\u001b[0m\u001b[0m\n\u001b[0;32m----> 2\u001b[0;31m \u001b[0mtrain_loss\u001b[0m \u001b[0;34m=\u001b[0m \u001b[0mnp\u001b[0m\u001b[0;34m.\u001b[0m\u001b[0mmean\u001b[0m\u001b[0;34m(\u001b[0m\u001b[0;34m[\u001b[0m\u001b[0mnp\u001b[0m\u001b[0;34m.\u001b[0m\u001b[0marray\u001b[0m\u001b[0;34m(\u001b[0m\u001b[0mtrain_loss_1\u001b[0m\u001b[0;34m)\u001b[0m\u001b[0;34m,\u001b[0m \u001b[0mnp\u001b[0m\u001b[0;34m.\u001b[0m\u001b[0marray\u001b[0m\u001b[0;34m(\u001b[0m\u001b[0mtrain_loss_2\u001b[0m\u001b[0;34m)\u001b[0m\u001b[0;34m,\u001b[0m \u001b[0mnp\u001b[0m\u001b[0;34m.\u001b[0m\u001b[0marray\u001b[0m\u001b[0;34m(\u001b[0m\u001b[0mtrain_loss_3\u001b[0m\u001b[0;34m)\u001b[0m\u001b[0;34m,\u001b[0m \u001b[0mnp\u001b[0m\u001b[0;34m.\u001b[0m\u001b[0marray\u001b[0m\u001b[0;34m(\u001b[0m\u001b[0mtrain_loss_4\u001b[0m\u001b[0;34m)\u001b[0m\u001b[0;34m,\u001b[0m \u001b[0mnp\u001b[0m\u001b[0;34m.\u001b[0m\u001b[0marray\u001b[0m\u001b[0;34m(\u001b[0m\u001b[0mtrain_loss_5\u001b[0m\u001b[0;34m)\u001b[0m\u001b[0;34m,\u001b[0m \u001b[0mnp\u001b[0m\u001b[0;34m.\u001b[0m\u001b[0marray\u001b[0m\u001b[0;34m(\u001b[0m\u001b[0mtrain_loss_6\u001b[0m\u001b[0;34m)\u001b[0m\u001b[0;34m]\u001b[0m\u001b[0;34m,\u001b[0m \u001b[0maxis\u001b[0m\u001b[0;34m=\u001b[0m\u001b[0;36m0\u001b[0m\u001b[0;34m)\u001b[0m\u001b[0;34m\u001b[0m\u001b[0m\n\u001b[0m\u001b[1;32m      3\u001b[0m \u001b[0mtrain_acc\u001b[0m \u001b[0;34m=\u001b[0m \u001b[0mnp\u001b[0m\u001b[0;34m.\u001b[0m\u001b[0mmean\u001b[0m\u001b[0;34m(\u001b[0m\u001b[0;34m[\u001b[0m\u001b[0mnp\u001b[0m\u001b[0;34m.\u001b[0m\u001b[0marray\u001b[0m\u001b[0;34m(\u001b[0m\u001b[0mtrain_acc_1\u001b[0m\u001b[0;34m)\u001b[0m\u001b[0;34m,\u001b[0m \u001b[0mnp\u001b[0m\u001b[0;34m.\u001b[0m\u001b[0marray\u001b[0m\u001b[0;34m(\u001b[0m\u001b[0mtrain_acc_2\u001b[0m\u001b[0;34m)\u001b[0m\u001b[0;34m,\u001b[0m \u001b[0mnp\u001b[0m\u001b[0;34m.\u001b[0m\u001b[0marray\u001b[0m\u001b[0;34m(\u001b[0m\u001b[0mtrain_acc_3\u001b[0m\u001b[0;34m)\u001b[0m\u001b[0;34m,\u001b[0m \u001b[0mnp\u001b[0m\u001b[0;34m.\u001b[0m\u001b[0marray\u001b[0m\u001b[0;34m(\u001b[0m\u001b[0mtrain_acc_4\u001b[0m\u001b[0;34m)\u001b[0m\u001b[0;34m,\u001b[0m \u001b[0mnp\u001b[0m\u001b[0;34m.\u001b[0m\u001b[0marray\u001b[0m\u001b[0;34m(\u001b[0m\u001b[0mtrain_acc_5\u001b[0m\u001b[0;34m)\u001b[0m\u001b[0;34m,\u001b[0m \u001b[0mnp\u001b[0m\u001b[0;34m.\u001b[0m\u001b[0marray\u001b[0m\u001b[0;34m(\u001b[0m\u001b[0mtrain_acc_6\u001b[0m\u001b[0;34m)\u001b[0m\u001b[0;34m]\u001b[0m\u001b[0;34m,\u001b[0m \u001b[0maxis\u001b[0m\u001b[0;34m=\u001b[0m\u001b[0;36m0\u001b[0m\u001b[0;34m)\u001b[0m\u001b[0;34m\u001b[0m\u001b[0m\n\u001b[1;32m      4\u001b[0m \u001b[0;34m\u001b[0m\u001b[0m\n\u001b[1;32m      5\u001b[0m \u001b[0mvalid_loss\u001b[0m \u001b[0;34m=\u001b[0m \u001b[0mnp\u001b[0m\u001b[0;34m.\u001b[0m\u001b[0mmean\u001b[0m\u001b[0;34m(\u001b[0m\u001b[0;34m[\u001b[0m\u001b[0mnp\u001b[0m\u001b[0;34m.\u001b[0m\u001b[0marray\u001b[0m\u001b[0;34m(\u001b[0m\u001b[0mvalid_loss_1\u001b[0m\u001b[0;34m)\u001b[0m\u001b[0;34m,\u001b[0m \u001b[0mnp\u001b[0m\u001b[0;34m.\u001b[0m\u001b[0marray\u001b[0m\u001b[0;34m(\u001b[0m\u001b[0mvalid_loss_2\u001b[0m\u001b[0;34m)\u001b[0m\u001b[0;34m,\u001b[0m \u001b[0mnp\u001b[0m\u001b[0;34m.\u001b[0m\u001b[0marray\u001b[0m\u001b[0;34m(\u001b[0m\u001b[0mvalid_loss_3\u001b[0m\u001b[0;34m)\u001b[0m\u001b[0;34m,\u001b[0m \u001b[0mnp\u001b[0m\u001b[0;34m.\u001b[0m\u001b[0marray\u001b[0m\u001b[0;34m(\u001b[0m\u001b[0mvalid_loss_4\u001b[0m\u001b[0;34m)\u001b[0m\u001b[0;34m,\u001b[0m \u001b[0mnp\u001b[0m\u001b[0;34m.\u001b[0m\u001b[0marray\u001b[0m\u001b[0;34m(\u001b[0m\u001b[0mvalid_loss_5\u001b[0m\u001b[0;34m)\u001b[0m\u001b[0;34m,\u001b[0m \u001b[0mnp\u001b[0m\u001b[0;34m.\u001b[0m\u001b[0marray\u001b[0m\u001b[0;34m(\u001b[0m\u001b[0mvalid_loss_6\u001b[0m\u001b[0;34m)\u001b[0m\u001b[0;34m]\u001b[0m\u001b[0;34m,\u001b[0m \u001b[0maxis\u001b[0m\u001b[0;34m=\u001b[0m\u001b[0;36m0\u001b[0m\u001b[0;34m)\u001b[0m\u001b[0;34m\u001b[0m\u001b[0m\n",
      "\u001b[0;31mNameError\u001b[0m: name 'train_loss_1' is not defined"
     ]
    }
   ],
   "source": [
    "\n",
    "train_loss = np.mean([np.array(train_loss_1), np.array(train_loss_2), np.array(train_loss_3), np.array(train_loss_4), np.array(train_loss_5), np.array(train_loss_6)], axis=0)\n",
    "train_acc = np.mean([np.array(train_acc_1), np.array(train_acc_2), np.array(train_acc_3), np.array(train_acc_4), np.array(train_acc_5), np.array(train_acc_6)], axis=0)\n",
    "\n",
    "valid_loss = np.mean([np.array(valid_loss_1), np.array(valid_loss_2), np.array(valid_loss_3), np.array(valid_loss_4), np.array(valid_loss_5), np.array(valid_loss_6)], axis=0)\n",
    "valid_acc = np.mean([np.array(valid_acc_1), np.array(valid_acc_2), np.array(valid_acc_3), np.array(valid_acc_4), np.array(valid_acc_5), np.array(valid_acc_6)], axis=0)\n",
    "\n",
    "std_train_loss = np.std([np.array(train_loss_1), np.array(train_loss_2), np.array(train_loss_3), np.array(train_loss_4), np.array(train_loss_5), np.array(train_loss_6)], axis=0)\n",
    "std_train_acc = np.std([np.array(train_acc_1), np.array(train_acc_2), np.array(train_acc_3), np.array(train_acc_4), np.array(train_acc_5), np.array(train_acc_6)], axis=0)\n",
    "\n",
    "std_valid_loss = np.std([np.array(valid_loss_1), np.array(valid_loss_2), np.array(valid_loss_3), np.array(valid_loss_4), np.array(valid_loss_5), np.array(valid_loss_6)], axis=0)\n",
    "std_valid_acc = np.std([np.array(valid_acc_1), np.array(valid_acc_2), np.array(valid_acc_3), np.array(valid_acc_4), np.array(valid_acc_5), np.array(valid_acc_6)], axis=0)\n",
    "\n",
    "pstd_train_loss = [sum(x) for x in zip(train_loss, std_train_loss)]\n",
    "mstd_train_loss = [sum(x) for x in zip(train_loss, [ -s for s in std_train_loss] )]\n",
    "\n",
    "pstd_train_acc = [sum(x) for x in zip(train_acc, std_train_acc)]\n",
    "mstd_train_acc = [sum(x) for x in zip(train_acc, [ -s for s in std_train_acc] )]\n",
    "\n",
    "pstd_valid_loss = [sum(x) for x in zip(valid_loss, std_valid_loss)]\n",
    "mstd_valid_loss = [sum(x) for x in zip(valid_loss, [ -s for s in std_valid_loss] )]\n",
    "\n",
    "pstd_valid_acc = [sum(x) for x in zip(valid_acc, std_valid_acc)]\n",
    "mstd_valid_acc = [sum(x) for x in zip(valid_acc, [ -s for s in std_valid_acc] )]"
   ]
  },
  {
   "cell_type": "code",
   "execution_count": null,
   "metadata": {},
   "outputs": [],
   "source": [
    "\n",
    "plt.figure()\n",
    "plt.plot(train_loss, label = \"Mean over 6 trials\")\n",
    "plt.plot(pstd_train_loss, '--', label = \"+std\")\n",
    "plt.plot(mstd_train_loss, '--', label = \"-std\")\n",
    "plt.title(\"SiCNN w/ 3 ConvLayers \\n Training loss, Scaled MNIST (0.3, 1)\")\n",
    "plt.xlabel(\"Epochs\")\n",
    "plt.ylabel(\"Categorical cross entropy\")\n",
    "plt.legend()\n",
    "plt.savefig(\"training_loss_mnist_mean.pdf\")\n",
    "#plt.show()\n",
    "\n",
    "plt.figure()\n",
    "plt.plot(train_acc, label = \"Mean over 6 trials\")\n",
    "plt.plot(pstd_train_acc, '--', label = \"+std\")\n",
    "plt.plot(mstd_train_acc, '--', label = \"-std\")\n",
    "plt.title(\"SiCNN w/ 3 ConvLayers \\n Training accuracy, Scaled MNIST (0.3, 1)\")\n",
    "plt.xlabel(\"Epoch\")\n",
    "plt.ylabel(\"Accuracy\")\n",
    "plt.legend()\n",
    "plt.savefig(\"training_acc_mnist_mean.pdf\")\n",
    "#plt.show()\n",
    "\n",
    "plt.figure()\n",
    "plt.plot(valid_loss, label = \"Mean over 6 trials\")\n",
    "plt.plot(pstd_valid_loss, '--', label = \"+std\")\n",
    "plt.plot(mstd_valid_loss, '--', label = \"-std\")\n",
    "plt.title(\"SiCNN w/ 3 ConvLayers \\n Validation loss, Scaled MNIST (0.3, 1)\")\n",
    "plt.xlabel(\"Epoch\")\n",
    "plt.ylabel(\"Categorical cross entropy\")\n",
    "plt.legend()\n",
    "plt.savefig(\"valid_loss_mnist_mean.pdf\")\n",
    "#plt.show()\n",
    "\n",
    "plt.figure()\n",
    "plt.plot(valid_acc, label = \"Mean over 6 trials\")\n",
    "plt.plot(pstd_valid_acc, '--', label = \"+std\")\n",
    "plt.plot(mstd_valid_acc, '--', label = \"-std\")\n",
    "plt.title(\"SiCNN w/ 3 ConvLayers \\n Validation accuracy, Scaled MNIST (0.3, 1)\")\n",
    "plt.xlabel(\"Epoch\")\n",
    "plt.ylabel(\"Accuracy\")\n",
    "plt.legend()\n",
    "plt.savefig(\"valid_acc_mnist_mean.pdf\")"
   ]
  }
 ],
 "metadata": {
  "kernelspec": {
   "display_name": "Python 3",
   "language": "python",
   "name": "python3"
  },
  "language_info": {
   "codemirror_mode": {
    "name": "ipython",
    "version": 3
   },
   "file_extension": ".py",
   "mimetype": "text/x-python",
   "name": "python",
   "nbconvert_exporter": "python",
   "pygments_lexer": "ipython3",
   "version": "3.6.4"
  }
 },
 "nbformat": 4,
 "nbformat_minor": 2
}
